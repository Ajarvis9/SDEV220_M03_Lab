{
 "cells": [
  {
   "cell_type": "code",
   "execution_count": 8,
   "id": "dab643ee-820f-4985-849e-805c4dc3a7bb",
   "metadata": {},
   "outputs": [
    {
     "name": "stdin",
     "output_type": "stream",
     "text": [
      "What type of vehicle are you driving?  car\n",
      "What year is the vehicle?  2000\n",
      "What make is the vehicle?  toyota\n",
      "What is the model of the vehicle?  chr\n",
      "How many doors does the vehicle have?  4\n",
      "Does the vehicle have solid or sun roof?  solid\n"
     ]
    },
    {
     "name": "stdout",
     "output_type": "stream",
     "text": [
      "Vehicle type:  car\n",
      "Year:  2000\n",
      "Make:  toyota\n",
      "Model:  chr\n",
      "How many doors:  4\n",
      "Type of roof:  solid\n"
     ]
    }
   ],
   "source": [
    "# Amy Jarvis  SDEV220  M03 Lab Case Study: Lists, Functions, and Classes\n",
    "#This app will take the user input, store it in the appropriate class, and return the data entered into a readable format\n",
    "\n",
    "# class for vehicle type\n",
    "class Vehicle():\n",
    "    def __init__(self, vtype):\n",
    "        self.vtype = vtype\n",
    "\n",
    "# class for details about the vehicle entered\n",
    "class Automobile(Vehicle):\n",
    "    def __init__(self, vtype, year, make, model, doors, roof_type):\n",
    "        super().__init__(vtype)\n",
    "        self.year = year\n",
    "        self.make = make\n",
    "        self.model = model\n",
    "        self.doors = doors\n",
    "        self.roof_type = roof_type\n",
    "\n",
    "# function to get the car information from the user\n",
    "def get_info():\n",
    "    vtype = input(\"What type of vehicle are you driving? \")\n",
    "    year = input(\"What year is the vehicle? \")\n",
    "    make = input(\"What make is the vehicle? \")\n",
    "    model = input(\"What is the model of the vehicle? \")\n",
    "    doors = input(\"How many doors does the vehicle have? \")\n",
    "    roof_type = input(\"Does the vehicle have solid or sun roof? \")\n",
    "    return Automobile(vtype, year, make, model, doors, roof_type)\n",
    "\n",
    "# run the script\n",
    "if __name__ == \"__main__\":\n",
    "    vehicle = get_info()\n",
    "    print(\"Vehicle type: \", vehicle.vtype)\n",
    "    print(\"Year: \", vehicle.year)\n",
    "    print(\"Make: \", vehicle.make)\n",
    "    print(\"Model: \", vehicle.model)\n",
    "    print(\"How many doors: \", vehicle.doors)\n",
    "    print(\"Type of roof: \", vehicle.roof_type)"
   ]
  },
  {
   "cell_type": "code",
   "execution_count": null,
   "id": "10940b61-7996-4900-aac7-632be3e33bc1",
   "metadata": {},
   "outputs": [],
   "source": []
  }
 ],
 "metadata": {
  "kernelspec": {
   "display_name": "Python 3 (ipykernel)",
   "language": "python",
   "name": "python3"
  },
  "language_info": {
   "codemirror_mode": {
    "name": "ipython",
    "version": 3
   },
   "file_extension": ".py",
   "mimetype": "text/x-python",
   "name": "python",
   "nbconvert_exporter": "python",
   "pygments_lexer": "ipython3",
   "version": "3.12.4"
  }
 },
 "nbformat": 4,
 "nbformat_minor": 5
}
